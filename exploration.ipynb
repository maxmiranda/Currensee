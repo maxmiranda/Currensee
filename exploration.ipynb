{
 "cells": [
  {
   "cell_type": "markdown",
   "metadata": {},
   "source": [
    "# Data Science  &  The Blockchain \n",
    "\n",
    "**Authors: Max Miranda, Jai Yarlagadda**             \n",
    "\n",
    "**Credits to: Github User: yanofsky, Stackoverflow Users: MrPromethee & Mandrek**\n",
    "\n",
    "The goal of this project was to apply natural language processing and data science tools to analyze for both the sentiment for and the price of cryptocurrencies.\n",
    "\n",
    "Tools: \n",
    "*  *Tweepy* : in order to find the tweets \n",
    "*  *TextBlob* : for sentiment analysis\n",
    "*  *Pandas* : data structure, all the table manipulation\n",
    "*  *Matplotlib* : draws pretty graphs\n",
    "*  *Numpy & SciPy* : sets of pre-written math functions"
   ]
  },
  {
   "cell_type": "code",
   "execution_count": 2,
   "metadata": {},
   "outputs": [
    {
     "name": "stdout",
     "output_type": "stream",
     "text": [
      "=====================================================================\n",
      "Assignment: Independent Data Exploration\n",
      "OK, version v1.12.5\n",
      "=====================================================================\n",
      "\n",
      "Successfully logged in as maxmiranda@berkeley.edu\n"
     ]
    }
   ],
   "source": [
    "################### For Parts 1-7 ####################\n",
    "from datascience import *\n",
    "import numpy as np\n",
    "import scipy \n",
    "\n",
    "%matplotlib inline\n",
    "import matplotlib.pyplot as plots\n",
    "plots.style.use('fivethirtyeight')\n",
    "\n",
    "######## For Prediction Techniques (8-10) ############\n",
    "from sklearn import preprocessing, svm\n",
    "from sklearn.linear_model import LinearRegression\n",
    "from sklearn.model_selection import train_test_split\n",
    "import pandas as pd\n",
    "import math\n",
    "import warnings\n",
    "warnings.filterwarnings(action=\"ignore\", module=\"scipy\", message=\"^internal gelsd\")"
   ]
  },
  {
   "attachments": {},
   "cell_type": "markdown",
   "metadata": {},
   "source": [
    "## 1. A tale of two tables:\n",
    "\n",
    "The first step was to gain access to the Twitter API, which can be done really simply on apps.twitter.com. Which, as it turns out, is incredibly simple:\n",
    "\n",
    "https://cl.ly/401W2X2H2O3m"
   ]
  },
  {
   "cell_type": "markdown",
   "metadata": {},
   "source": [
    "The next was to be able to conduct simple positive or negative sentiment analysis on the data, which we used a Github Gist on dumping tweets from a twitter account that we combined with information on a StackOverflow post on how to conduct sentiment analysis using TextBlobber. (Thanks yanofsky, MrPromthee, & Mandrek).\n",
    "\n",
    "The result was the following code: __[tweet_sentiment_anal.py](https://gist.github.com/maxmiranda/e3ce6cb8becae7b98a0f1a7df9469c4a)__"
   ]
  },
  {
   "cell_type": "markdown",
   "metadata": {},
   "source": [
    "We used *that* to produce the `coindesk_tweets_sentiments.csv` table."
   ]
  },
  {
   "cell_type": "code",
   "execution_count": 7,
   "metadata": {},
   "outputs": [
    {
     "name": "stdout",
     "output_type": "stream",
     "text": [
      "2082\n",
      "948\n",
      "190\n"
     ]
    },
    {
     "data": {
      "text/html": [
       "<table border=\"1\" class=\"dataframe\">\n",
       "    <thead>\n",
       "        <tr>\n",
       "            <th>content</th> <th>sentiment</th>\n",
       "        </tr>\n",
       "    </thead>\n",
       "    <tbody>\n",
       "        <tr>\n",
       "            <td>The last panel of #ConsensusInvest2017 is underway. Catc ...</td> <td>Negative </td>\n",
       "        </tr>\n",
       "    </tbody>\n",
       "        <tr>\n",
       "            <td>Live from #ConsensusInvest2017 with @SkyCorridors https: ...</td> <td>Neutral  </td>\n",
       "        </tr>\n",
       "    </tbody>\n",
       "        <tr>\n",
       "            <td>Breaking out the most successful ICOs to date #Consensus ...</td> <td>Positive </td>\n",
       "        </tr>\n",
       "    </tbody>\n",
       "        <tr>\n",
       "            <td>Live from #ConsensusInvest2017 with @jimmysong https://t ...</td> <td>Neutral  </td>\n",
       "        </tr>\n",
       "    </tbody>\n",
       "        <tr>\n",
       "            <td>Tetras Capital's @alexsunnarborg on valuations for store ...</td> <td>Negative </td>\n",
       "        </tr>\n",
       "    </tbody>\n",
       "        <tr>\n",
       "            <td>Tetras Capital's @alexsunnarborg breaks down how to rese ...</td> <td>Positive </td>\n",
       "        </tr>\n",
       "    </tbody>\n",
       "        <tr>\n",
       "            <td>Live from #ConsensusInvest2017 with @TuurDemeesterzx htt ...</td> <td>Neutral  </td>\n",
       "        </tr>\n",
       "    </tbody>\n",
       "        <tr>\n",
       "            <td>Cryptocurrency is set for a \"mass market moment\" accordi ...</td> <td>Positive </td>\n",
       "        </tr>\n",
       "    </tbody>\n",
       "        <tr>\n",
       "            <td>Up next: analyst @TuurDemeester takes the stage at #Cons ...</td> <td>Positive </td>\n",
       "        </tr>\n",
       "    </tbody>\n",
       "        <tr>\n",
       "            <td>Live from #ConsensusInvest2017 with @CremeDeLaCrypto htt ...</td> <td>Neutral  </td>\n",
       "        </tr>\n",
       "    </tbody>\n",
       "</table>\n",
       "<p>... (3210 rows omitted)</p"
      ],
      "text/plain": [
       "content                                                      | sentiment\n",
       "The last panel of #ConsensusInvest2017 is underway. Catc ... | Negative\n",
       "Live from #ConsensusInvest2017 with @SkyCorridors https: ... | Neutral\n",
       "Breaking out the most successful ICOs to date #Consensus ... | Positive\n",
       "Live from #ConsensusInvest2017 with @jimmysong https://t ... | Neutral\n",
       "Tetras Capital's @alexsunnarborg on valuations for store ... | Negative\n",
       "Tetras Capital's @alexsunnarborg breaks down how to rese ... | Positive\n",
       "Live from #ConsensusInvest2017 with @TuurDemeesterzx htt ... | Neutral\n",
       "Cryptocurrency is set for a \"mass market moment\" accordi ... | Positive\n",
       "Up next: analyst @TuurDemeester takes the stage at #Cons ... | Positive\n",
       "Live from #ConsensusInvest2017 with @CremeDeLaCrypto htt ... | Neutral\n",
       "... (3210 rows omitted)"
      ]
     },
     "execution_count": 7,
     "metadata": {},
     "output_type": "execute_result"
    }
   ],
   "source": [
    "coindesk_tweets = Table.read_table(\"coindesk_tweets_sentiments.csv\", encoding = \"latin1\")\n",
    "print(coindesk_tweets.where(\"sentiment\", \"Positive\").num_rows)\n",
    "print(coindesk_tweets.where(\"sentiment\", \"Negative\").num_rows)\n",
    "print(coindesk_tweets.where(\"sentiment\", \"Neutral\").num_rows)\n",
    "\n",
    "coindesk_tweets"
   ]
  },
  {
   "cell_type": "markdown",
   "metadata": {},
   "source": [
    "`coindesk_tweets` will serve as our source table, and will help us to create two tables. One that keeps track of the number of mentions (a quantitative variable), and one that keeps track of general sentiment (a categorical variable).\n",
    "\n",
    "First, one that counts the amount of mentions for a list of cryptocurrencies. "
   ]
  },
  {
   "cell_type": "code",
   "execution_count": 8,
   "metadata": {},
   "outputs": [
    {
     "data": {
      "text/html": [
       "<table border=\"1\" class=\"dataframe\">\n",
       "    <thead>\n",
       "        <tr>\n",
       "            <th>crypto</th> <th>num of mentions</th>\n",
       "        </tr>\n",
       "    </thead>\n",
       "    <tbody>\n",
       "        <tr>\n",
       "            <td>Bitcoin         </td> <td>1142           </td>\n",
       "        </tr>\n",
       "    </tbody>\n",
       "        <tr>\n",
       "            <td>Ethereum        </td> <td>156            </td>\n",
       "        </tr>\n",
       "    </tbody>\n",
       "        <tr>\n",
       "            <td>Ripple          </td> <td>40             </td>\n",
       "        </tr>\n",
       "    </tbody>\n",
       "        <tr>\n",
       "            <td>Bitcoin Cash    </td> <td>76             </td>\n",
       "        </tr>\n",
       "    </tbody>\n",
       "        <tr>\n",
       "            <td>Bitconnect      </td> <td>0              </td>\n",
       "        </tr>\n",
       "    </tbody>\n",
       "        <tr>\n",
       "            <td>Dash            </td> <td>5              </td>\n",
       "        </tr>\n",
       "    </tbody>\n",
       "        <tr>\n",
       "            <td>Ethereum Classic</td> <td>1              </td>\n",
       "        </tr>\n",
       "    </tbody>\n",
       "        <tr>\n",
       "            <td>Iota            </td> <td>1              </td>\n",
       "        </tr>\n",
       "    </tbody>\n",
       "        <tr>\n",
       "            <td>Litecoin        </td> <td>14             </td>\n",
       "        </tr>\n",
       "    </tbody>\n",
       "        <tr>\n",
       "            <td>Monero          </td> <td>9              </td>\n",
       "        </tr>\n",
       "    </tbody>\n",
       "        <tr>\n",
       "            <td>Nem             </td> <td>1              </td>\n",
       "        </tr>\n",
       "    </tbody>\n",
       "        <tr>\n",
       "            <td>Neo             </td> <td>3              </td>\n",
       "        </tr>\n",
       "    </tbody>\n",
       "        <tr>\n",
       "            <td>Numeraire       </td> <td>0              </td>\n",
       "        </tr>\n",
       "    </tbody>\n",
       "        <tr>\n",
       "            <td>Stratis         </td> <td>0              </td>\n",
       "        </tr>\n",
       "    </tbody>\n",
       "        <tr>\n",
       "            <td>Waves           </td> <td>2              </td>\n",
       "        </tr>\n",
       "    </tbody>\n",
       "</table>"
      ],
      "text/plain": [
       "<IPython.core.display.HTML object>"
      ]
     },
     "metadata": {},
     "output_type": "display_data"
    }
   ],
   "source": [
    "cryptos = make_array(\"Bitcoin\", \"Ethereum\", \"Ripple\", \"Bitcoin Cash\", \"Bitconnect\", \"Dash\", \"Ethereum Classic\", \"Iota\", \"Litecoin\", \"Monero\",\"Nem\",\"Neo\",\"Numeraire\",\"Stratis\",\"Waves\" )\n",
    "\n",
    "num_mentions = make_array()\n",
    "\n",
    "for crypto in cryptos: \n",
    "    num_mentions_for_one_capitalized = coindesk_tweets.where('content', are.containing(crypto)).num_rows\n",
    "    num_mentions_for_one_upper = coindesk_tweets.where('content', are.containing(crypto.upper())).num_rows\n",
    "    num_mentions_for_one_lower = coindesk_tweets.where('content', are.containing(crypto.lower())).num_rows\n",
    "    \n",
    "    num_mentions_for_one = num_mentions_for_one_lower + num_mentions_for_one_upper + num_mentions_for_one_capitalized\n",
    "    num_mentions = np.append(num_mentions, num_mentions_for_one)\n",
    "cryptos_num_mentions = Table().with_columns(\"crypto\", cryptos,\n",
    "                                         \"num of mentions\", num_mentions)\n",
    "cryptos_num_mentions.show(len(cryptos))"
   ]
  },
  {
   "cell_type": "markdown",
   "metadata": {},
   "source": [
    "Now, time for the crytocurriences vs. their coindesk sentiment. First, we will create a new table that has both the original coindesk tweets and lists any cryptos mentioned. "
   ]
  },
  {
   "cell_type": "code",
   "execution_count": 9,
   "metadata": {},
   "outputs": [
    {
     "data": {
      "text/html": [
       "<table border=\"1\" class=\"dataframe\">\n",
       "    <thead>\n",
       "        <tr>\n",
       "            <th>content</th> <th>sentiment</th> <th>crypto mentioned</th>\n",
       "        </tr>\n",
       "    </thead>\n",
       "    <tbody>\n",
       "        <tr>\n",
       "            <td>\"Bitcoin is good at being bitcoin,\" says Blockchain Capi ...</td> <td>Positive </td> <td>['Bitcoin']                </td>\n",
       "        </tr>\n",
       "    </tbody>\n",
       "        <tr>\n",
       "            <td>TechCrunch Founder Arrington Raising $100 Million Ripple ...</td> <td>Neutral  </td> <td>['Ripple']                 </td>\n",
       "        </tr>\n",
       "    </tbody>\n",
       "        <tr>\n",
       "            <td>Bitcoin Cash Demand Shocked Us, Says Circle Trading Chie ...</td> <td>Positive </td> <td>['Bitcoin', 'Bitcoin Cash']</td>\n",
       "        </tr>\n",
       "    </tbody>\n",
       "        <tr>\n",
       "            <td>Bitcoin Wallet App Abra Announces Ethereum Integration h ...</td> <td>Positive </td> <td>['Bitcoin', 'Ethereum']    </td>\n",
       "        </tr>\n",
       "    </tbody>\n",
       "        <tr>\n",
       "            <td>Japan's BitFlyer Launches Bitcoin Exchange in US Market  ...</td> <td>Positive </td> <td>['Bitcoin']                </td>\n",
       "        </tr>\n",
       "    </tbody>\n",
       "        <tr>\n",
       "            <td>RT @srolondon: NYC: #crypto investors gather today #cons ...</td> <td>Positive </td> <td>['Dash']                   </td>\n",
       "        </tr>\n",
       "    </tbody>\n",
       "        <tr>\n",
       "            <td>Early Bitcoin Buyers Talk Bubbles and Origin Stories at  ...</td> <td>Positive </td> <td>['Bitcoin']                </td>\n",
       "        </tr>\n",
       "    </tbody>\n",
       "        <tr>\n",
       "            <td>As Bitcoin Prices Soar, Forked Rivals Face Different Pat ...</td> <td>Positive </td> <td>['Bitcoin']                </td>\n",
       "        </tr>\n",
       "    </tbody>\n",
       "        <tr>\n",
       "            <td>RT @SpirosMargaris: Good read\r",
       "\r",
       "To the Moon? Time to Grow ...</td> <td>Positive </td> <td>['Bitcoin']                </td>\n",
       "        </tr>\n",
       "    </tbody>\n",
       "        <tr>\n",
       "            <td>\"Bitcoin did not care.\" CoinDesk's director of research, ...</td> <td>Positive </td> <td>['Bitcoin']                </td>\n",
       "        </tr>\n",
       "    </tbody>\n",
       "</table>\n",
       "<p>... (1153 rows omitted)</p"
      ],
      "text/plain": [
       "content                                                      | sentiment | crypto mentioned\n",
       "\"Bitcoin is good at being bitcoin,\" says Blockchain Capi ... | Positive  | ['Bitcoin']\n",
       "TechCrunch Founder Arrington Raising $100 Million Ripple ... | Neutral   | ['Ripple']\n",
       "Bitcoin Cash Demand Shocked Us, Says Circle Trading Chie ... | Positive  | ['Bitcoin', 'Bitcoin Cash']\n",
       "Bitcoin Wallet App Abra Announces Ethereum Integration h ... | Positive  | ['Bitcoin', 'Ethereum']\n",
       "Japan's BitFlyer Launches Bitcoin Exchange in US Market  ... | Positive  | ['Bitcoin']\n",
       "RT @srolondon: NYC: #crypto investors gather today #cons ... | Positive  | ['Dash']\n",
       "Early Bitcoin Buyers Talk Bubbles and Origin Stories at  ... | Positive  | ['Bitcoin']\n",
       "As Bitcoin Prices Soar, Forked Rivals Face Different Pat ... | Positive  | ['Bitcoin']\n",
       "RT @SpirosMargaris: Good read\n",
       "\n",
       "To the Moon? Time to Grow ... | Positive  | ['Bitcoin']\n",
       "\"Bitcoin did not care.\" CoinDesk's director of research, ... | Positive  | ['Bitcoin']\n",
       "... (1153 rows omitted)"
      ]
     },
     "execution_count": 9,
     "metadata": {},
     "output_type": "execute_result"
    }
   ],
   "source": [
    "cryptos_for_tweets = []\n",
    "\n",
    "for tweet in coindesk_tweets.column(\"content\"): # creating new column that can be appended to coindesk_tweets to give easy access to which tweets reference which cryptos   \n",
    "    cryptos_for_a_tweet = []\n",
    "    for crypto in cryptos: \n",
    "        if tweet.rfind(crypto) != -1:\n",
    "            cryptos_for_a_tweet.append(crypto)\n",
    "    \n",
    "    cryptos_for_tweets.append(cryptos_for_a_tweet)\n",
    "        \n",
    "cryptos_tweets = coindesk_tweets.with_column(\"crypto mentioned\", cryptos_for_tweets)\n",
    "\n",
    "cryptos_tweets.where(\"crypto mentioned\", are.not_equal_to([]))"
   ]
  },
  {
   "cell_type": "markdown",
   "metadata": {},
   "source": [
    "Now, to finally create the second table we will subtract the number of positive tweets by the number of negative tweets, to gain a general sentiment."
   ]
  },
  {
   "cell_type": "code",
   "execution_count": 10,
   "metadata": {},
   "outputs": [
    {
     "data": {
      "text/html": [
       "<table border=\"1\" class=\"dataframe\">\n",
       "    <thead>\n",
       "        <tr>\n",
       "            <th>crypto</th> <th>general sentiment</th>\n",
       "        </tr>\n",
       "    </thead>\n",
       "    <tbody>\n",
       "        <tr>\n",
       "            <td>Bitcoin         </td> <td>Positive         </td>\n",
       "        </tr>\n",
       "    </tbody>\n",
       "        <tr>\n",
       "            <td>Ethereum        </td> <td>Positive         </td>\n",
       "        </tr>\n",
       "    </tbody>\n",
       "        <tr>\n",
       "            <td>Ripple          </td> <td>Positive         </td>\n",
       "        </tr>\n",
       "    </tbody>\n",
       "        <tr>\n",
       "            <td>Bitcoin Cash    </td> <td>Positive         </td>\n",
       "        </tr>\n",
       "    </tbody>\n",
       "        <tr>\n",
       "            <td>Bitconnect      </td> <td>Neutral          </td>\n",
       "        </tr>\n",
       "    </tbody>\n",
       "        <tr>\n",
       "            <td>Dash            </td> <td>Positive         </td>\n",
       "        </tr>\n",
       "    </tbody>\n",
       "        <tr>\n",
       "            <td>Ethereum Classic</td> <td>Positive         </td>\n",
       "        </tr>\n",
       "    </tbody>\n",
       "        <tr>\n",
       "            <td>Iota            </td> <td>Neutral          </td>\n",
       "        </tr>\n",
       "    </tbody>\n",
       "        <tr>\n",
       "            <td>Litecoin        </td> <td>Positive         </td>\n",
       "        </tr>\n",
       "    </tbody>\n",
       "        <tr>\n",
       "            <td>Monero          </td> <td>Positive         </td>\n",
       "        </tr>\n",
       "    </tbody>\n",
       "        <tr>\n",
       "            <td>Nem             </td> <td>Neutral          </td>\n",
       "        </tr>\n",
       "    </tbody>\n",
       "        <tr>\n",
       "            <td>Neo             </td> <td>Negative         </td>\n",
       "        </tr>\n",
       "    </tbody>\n",
       "        <tr>\n",
       "            <td>Numeraire       </td> <td>Neutral          </td>\n",
       "        </tr>\n",
       "    </tbody>\n",
       "        <tr>\n",
       "            <td>Stratis         </td> <td>Neutral          </td>\n",
       "        </tr>\n",
       "    </tbody>\n",
       "        <tr>\n",
       "            <td>Waves           </td> <td>Negative         </td>\n",
       "        </tr>\n",
       "    </tbody>\n",
       "</table>"
      ],
      "text/plain": [
       "<IPython.core.display.HTML object>"
      ]
     },
     "metadata": {},
     "output_type": "display_data"
    }
   ],
   "source": [
    "sentiments = make_array()\n",
    "\n",
    "for crypto in cryptos: \n",
    "    positive_num = cryptos_tweets.where(\"crypto mentioned\", are.containing(crypto)).where(\"sentiment\", \"Positive\").num_rows\n",
    "    negative_num = cryptos_tweets.where(\"crypto mentioned\", are.containing(crypto)).where(\"sentiment\", \"Negative\").num_rows\n",
    "    if positive_num - negative_num > 0: \n",
    "        sentiment = \"Positive\"\n",
    "    elif positive_num - negative_num < 0:\n",
    "        sentiment = \"Negative\"\n",
    "    else: \n",
    "        sentiment = \"Neutral\"\n",
    "    sentiments = np.append(sentiments, sentiment)\n",
    "\n",
    "cryptos_sentiments = Table().with_columns(\"crypto\", cryptos, \n",
    "                                         \"general sentiment\", sentiments)\n",
    "\n",
    "cryptos_sentiments.show(cryptos_sentiments.num_rows)"
   ]
  },
  {
   "cell_type": "markdown",
   "metadata": {},
   "source": [
    "## 2-4. Visualizing the variables"
   ]
  },
  {
   "cell_type": "code",
   "execution_count": 178,
   "metadata": {},
   "outputs": [
    {
     "data": {
      "image/png": "[encoded data removed]",
      "text/plain": [
       "<matplotlib.figure.Figure at 0x7fac737884a8>"
      ]
     },
     "metadata": {},
     "output_type": "display_data"
    }
   ],
   "source": [
    "cryptos_num_mentions = cryptos_num_mentions.sort(\"num of mentions\", descending = True)\n",
    "cryptos_num_mentions.barh('crypto')"
   ]
  },
  {
   "cell_type": "markdown",
   "metadata": {},
   "source": [
    "Clearly, in recent history, Bitcoin is far and away the most reported on cryptocurrency by Coindesk."
   ]
  },
  {
   "cell_type": "markdown",
   "metadata": {},
   "source": [
    "In order to do the same for the categorical variable, we'll first group the table. The result will be a table that shows the amount of cryptocurrencies that recieved negative, positive and neutral sentiments from Coindesk. "
   ]
  },
  {
   "cell_type": "code",
   "execution_count": 179,
   "metadata": {},
   "outputs": [
    {
     "data": {
      "image/png": "[encoded data removed]",
      "text/plain": [
       "<matplotlib.figure.Figure at 0x7fac70377e48>"
      ]
     },
     "metadata": {},
     "output_type": "display_data"
    }
   ],
   "source": [
    "grouped = cryptos_sentiments.group(\"general sentiment\") \n",
    "\n",
    "fig1, ax1 = plots.subplots() #all code is almost exactly copied from pyplot's documentation\n",
    "labels = grouped.column(\"general sentiment\")\n",
    "explode = (.2, 0, 0)\n",
    "sentiments = grouped.column(\"count\")\n",
    "\n",
    "\n",
    "ax1.pie(sentiments, explode=explode, labels=labels, autopct='%1.1f%%',\n",
    "        shadow=True, startangle=90)\n",
    "\n",
    "ax1.axis('equal')  \n",
    "\n",
    "plots.show()\n"
   ]
  },
  {
   "cell_type": "markdown",
   "metadata": {},
   "source": [
    "As would make sense for a business based on cryptocurrencies, Coindesk has about five times as many  positive sentiments on cryptocurrencies than it does negative. It is important to take into account, that this is only a small, 15-cryptocurrency sample, the actual pie chart of the entire population would have a significantly larger neutral slice as there are hundreds of cryptocurrencies, and it is nearly impossible that Coindesk could get the opportunity to tweet on all of them. "
   ]
  },
  {
   "cell_type": "markdown",
   "metadata": {},
   "source": [
    "## 5. Joining tables\n",
    "\n",
    "Now, let's add in the part everyone actually cares about, the price! We'll do so by creating a new table for the prices and then joining all of the existing tables. \n",
    "\n",
    "Note: prices from https://coinmarketcap.com/ on 11/28/2017 at approximately 3:47 P.M."
   ]
  },
  {
   "cell_type": "code",
   "execution_count": 35,
   "metadata": {},
   "outputs": [
    {
     "data": {
      "text/html": [
       "<table border=\"1\" class=\"dataframe\">\n",
       "    <thead>\n",
       "        <tr>\n",
       "            <th>crypto</th> <th>general sentiment</th> <th>num of mentions</th> <th>price</th>\n",
       "        </tr>\n",
       "    </thead>\n",
       "    <tbody>\n",
       "        <tr>\n",
       "            <td>Bitcoin         </td> <td>Positive         </td> <td>1142           </td> <td>10084.4 </td>\n",
       "        </tr>\n",
       "    </tbody>\n",
       "        <tr>\n",
       "            <td>Bitcoin Cash    </td> <td>Positive         </td> <td>76             </td> <td>1552.62 </td>\n",
       "        </tr>\n",
       "    </tbody>\n",
       "        <tr>\n",
       "            <td>Bitconnect      </td> <td>Neutral          </td> <td>0              </td> <td>285.63  </td>\n",
       "        </tr>\n",
       "    </tbody>\n",
       "        <tr>\n",
       "            <td>Dash            </td> <td>Positive         </td> <td>5              </td> <td>627.05  </td>\n",
       "        </tr>\n",
       "    </tbody>\n",
       "        <tr>\n",
       "            <td>Ethereum        </td> <td>Positive         </td> <td>156            </td> <td>472.24  </td>\n",
       "        </tr>\n",
       "    </tbody>\n",
       "        <tr>\n",
       "            <td>Ethereum Classic</td> <td>Positive         </td> <td>1              </td> <td>34.02   </td>\n",
       "        </tr>\n",
       "    </tbody>\n",
       "        <tr>\n",
       "            <td>Iota            </td> <td>Neutral          </td> <td>1              </td> <td>1.48    </td>\n",
       "        </tr>\n",
       "    </tbody>\n",
       "        <tr>\n",
       "            <td>Litecoin        </td> <td>Positive         </td> <td>14             </td> <td>95.53   </td>\n",
       "        </tr>\n",
       "    </tbody>\n",
       "        <tr>\n",
       "            <td>Monero          </td> <td>Positive         </td> <td>9              </td> <td>198.75  </td>\n",
       "        </tr>\n",
       "    </tbody>\n",
       "        <tr>\n",
       "            <td>Nem             </td> <td>Neutral          </td> <td>1              </td> <td>0.249141</td>\n",
       "        </tr>\n",
       "    </tbody>\n",
       "</table>\n",
       "<p>... (5 rows omitted)</p"
      ],
      "text/plain": [
       "crypto           | general sentiment | num of mentions | price\n",
       "Bitcoin          | Positive          | 1142            | 10084.4\n",
       "Bitcoin Cash     | Positive          | 76              | 1552.62\n",
       "Bitconnect       | Neutral           | 0               | 285.63\n",
       "Dash             | Positive          | 5               | 627.05\n",
       "Ethereum         | Positive          | 156             | 472.24\n",
       "Ethereum Classic | Positive          | 1               | 34.02\n",
       "Iota             | Neutral           | 1               | 1.48\n",
       "Litecoin         | Positive          | 14              | 95.53\n",
       "Monero           | Positive          | 9               | 198.75\n",
       "Nem              | Neutral           | 1               | 0.249141\n",
       "... (5 rows omitted)"
      ]
     },
     "execution_count": 35,
     "metadata": {},
     "output_type": "execute_result"
    }
   ],
   "source": [
    "#Creating new table for prices\n",
    "prices = make_array(10084.40, 472.24, 0.301084, 1552.62, 285.63, 627.05, 34.02, 1.48, 95.53, 198.75, 0.249141, 38.38, 15.31, 6.41, 5.83) \n",
    "crypto_prices = Table().with_columns( \"crypto\", cryptos, \n",
    "                                    \"price\", prices)\n",
    "\n",
    "#Joining all existing data\n",
    "existing_data = cryptos_sentiments.join(\"crypto\", cryptos_num_mentions)\n",
    "crypto_data = existing_data.join(\"crypto\", crypto_prices)\n",
    "\n",
    "crypto_data"
   ]
  },
  {
   "cell_type": "markdown",
   "metadata": {},
   "source": [
    "It is important to note that one could not have simply used with_column on prices, as the order of the cryptocurrencies might have been different, since we sorted one of the tables before creating the bar graph. If the order were thrown off that would have horrible ramifications on our interpretation of the data.    "
   ]
  },
  {
   "cell_type": "markdown",
   "metadata": {},
   "source": [
    "## 6. Hypothesizing\n",
    "\n",
    "Creating a hypothesis and testing it is what data science is the value of data science! For the sake of simplicity, let's choose a basic hypothesis to be able to test.\n",
    "\n",
    "**Null Hypothesis:** There is no relationship between the price of a cryptocurrency and the number of times that Coindesk will mention it. \n",
    "\n",
    "**Alternative Hypothesis:** The larger a cryptocurrency's price, the more mentions it will get from Coindesk. \n"
   ]
  },
  {
   "cell_type": "markdown",
   "metadata": {},
   "source": [
    "## 7. Testing the hypothesis\n",
    "\n",
    "In order to test this hypotheis, we will do the following:\n",
    "1. <font color = 'blue'> Calculate the correlation of the relationship. </font> \n",
    "2. <font color = 'blue'>  Calculate the probability that this correlation would have occurred. </font>\n",
    "3. <font color = 'blue'> We will use a <font color = 'gold'>p-value cutoff of 5% </font>, meaning that this <font size = '4'> **correlation is only significant if there is a less than 5% chance that this correlation would be this high.** </font> </font>\n"
   ]
  },
  {
   "cell_type": "code",
   "execution_count": 36,
   "metadata": {},
   "outputs": [
    {
     "name": "stdout",
     "output_type": "stream",
     "text": [
      "There is a correlation, 0.988537722621, and it's statistically significant!\n"
     ]
    }
   ],
   "source": [
    "x = crypto_data.column(\"price\")\n",
    "y = crypto_data.column(\"num of mentions\")\n",
    "'''\n",
    "def standard_units(nums):\n",
    "    \"\"\"Return an array where every value in nums is converted to standard units.\"\"\"\n",
    "    return (nums - np.mean(nums)) / np.std(nums) \n",
    "\n",
    "r = np.average(standard_units(x) * standard_units(y))\n",
    "'''\n",
    "\n",
    "slope, intercept, r_value, p_value, std_err = scipy.stats.linregress(x,y) \n",
    "if p_value < .05:\n",
    "    print(\"There is a correlation, \" + str(r_value) + \", and it's statistically significant!\")\n",
    "else: \n",
    "    print(\"Looks like any tiny correlation here is statistically insignificant.\")"
   ]
  },
  {
   "cell_type": "markdown",
   "metadata": {},
   "source": [
    "Yay!! We can reject the null hypothesis, there actually was a correlation where we though there was. Now, it's time for something a little more advanced."
   ]
  },
  {
   "attachments": {
    "image.png": {
     "image/png": "[encoded data removed]"
    }
   },
   "cell_type": "markdown",
   "metadata": {},
   "source": [
    "## 8-10. Using Machine Learning to predict Bitcoin Price\n",
    "\n",
    "We can begin by stating a major disclaimer about these predictions. As everyone knows, this is an incredibly volatile market, and the machine learning algorithm we're using through SciPy is a linear regression. However, as you can see in the sample below, a linear relationship might not be the best way to describe the changes in crypto prices over time. As well, the practice of predicting future prices based off of past prices is one that's been oft-used but never confirmed a scientific method of predicting performance.  \n",
    "<font color = 'white'> data:image/jpeg;base64,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![image.png](attachment:image.png)\n",
    "</font>"
   ]
  },
  {
   "cell_type": "markdown",
   "metadata": {},
   "source": [
    "The prediction technique we're applying is machine learning, using Scikit Learn. The reason one would choose this prediction technique is that it goes beyond a simple linear regression, rather it takes a set of variables, and uses an algorithm developed with these variables to predict the future. This is clearly superior to basic linear regression because basic linear regression only uses one value to predict. "
   ]
  },
  {
   "cell_type": "code",
   "execution_count": 7,
   "metadata": {},
   "outputs": [
    {
     "data": {
      "text/html": [
       "<table border=\"1\" class=\"dataframe\">\n",
       "    <thead>\n",
       "        <tr>\n",
       "            <th>Date</th> <th>Open</th> <th>High</th> <th>Low</th> <th>Close</th> <th>Volume (BTC)</th> <th>Volume (Currency)</th> <th>Weighted Price</th>\n",
       "        </tr>\n",
       "    </thead>\n",
       "    <tbody>\n",
       "        <tr>\n",
       "            <td>2013-03-31</td> <td>93.25  </td> <td>100    </td> <td>93.03  </td> <td>93.1   </td> <td>390.827     </td> <td>37089.3          </td> <td>94.8996       </td>\n",
       "        </tr>\n",
       "    </tbody>\n",
       "        <tr>\n",
       "            <td>2013-04-01</td> <td>93.17  </td> <td>105.9  </td> <td>92.5   </td> <td>102.37 </td> <td>4919.65     </td> <td>492101           </td> <td>100.028       </td>\n",
       "        </tr>\n",
       "    </tbody>\n",
       "        <tr>\n",
       "            <td>2013-04-02</td> <td>102.8  </td> <td>118.388</td> <td>99     </td> <td>117.99 </td> <td>9084.83     </td> <td>987412           </td> <td>108.688       </td>\n",
       "        </tr>\n",
       "    </tbody>\n",
       "        <tr>\n",
       "            <td>2013-04-03</td> <td>116.579</td> <td>146.88 </td> <td>101.511</td> <td>134.953</td> <td>12909.4     </td> <td>1.65209e+06      </td> <td>127.976       </td>\n",
       "        </tr>\n",
       "    </tbody>\n",
       "        <tr>\n",
       "            <td>2013-04-04</td> <td>131.78 </td> <td>143    </td> <td>119    </td> <td>132.681</td> <td>6910.1      </td> <td>909439           </td> <td>131.61        </td>\n",
       "        </tr>\n",
       "    </tbody>\n",
       "        <tr>\n",
       "            <td>2013-04-05</td> <td>132.75 </td> <td>145    </td> <td>131.503</td> <td>140    </td> <td>4838.18     </td> <td>669393           </td> <td>138.356       </td>\n",
       "        </tr>\n",
       "    </tbody>\n",
       "        <tr>\n",
       "            <td>2013-04-06</td> <td>141    </td> <td>144    </td> <td>140.902</td> <td>143.99 </td> <td>2170.75     </td> <td>310411           </td> <td>142.997       </td>\n",
       "        </tr>\n",
       "    </tbody>\n",
       "        <tr>\n",
       "            <td>2013-04-07</td> <td>144    </td> <td>174.4  </td> <td>143.501</td> <td>174.4  </td> <td>3735.13     </td> <td>583658           </td> <td>156.262       </td>\n",
       "        </tr>\n",
       "    </tbody>\n",
       "        <tr>\n",
       "            <td>2013-04-08</td> <td>172.51 </td> <td>200    </td> <td>166.693</td> <td>194.5  </td> <td>10616.3     </td> <td>1.93504e+06      </td> <td>182.271       </td>\n",
       "        </tr>\n",
       "    </tbody>\n",
       "        <tr>\n",
       "            <td>2013-04-09</td> <td>190.51 </td> <td>249.97 </td> <td>188.898</td> <td>233.115</td> <td>6188.92     </td> <td>1.36307e+06      </td> <td>220.244       </td>\n",
       "        </tr>\n",
       "    </tbody>\n",
       "</table>\n",
       "<p>... (1353 rows omitted)</p"
      ],
      "text/plain": [
       "Date       | Open    | High    | Low     | Close   | Volume (BTC) | Volume (Currency) | Weighted Price\n",
       "2013-03-31 | 93.25   | 100     | 93.03   | 93.1    | 390.827      | 37089.3           | 94.8996\n",
       "2013-04-01 | 93.17   | 105.9   | 92.5    | 102.37  | 4919.65      | 492101            | 100.028\n",
       "2013-04-02 | 102.8   | 118.388 | 99      | 117.99  | 9084.83      | 987412            | 108.688\n",
       "2013-04-03 | 116.579 | 146.88  | 101.511 | 134.953 | 12909.4      | 1.65209e+06       | 127.976\n",
       "2013-04-04 | 131.78  | 143     | 119     | 132.681 | 6910.1       | 909439            | 131.61\n",
       "2013-04-05 | 132.75  | 145     | 131.503 | 140     | 4838.18      | 669393            | 138.356\n",
       "2013-04-06 | 141     | 144     | 140.902 | 143.99  | 2170.75      | 310411            | 142.997\n",
       "2013-04-07 | 144     | 174.4   | 143.501 | 174.4   | 3735.13      | 583658            | 156.262\n",
       "2013-04-08 | 172.51  | 200     | 166.693 | 194.5   | 10616.3      | 1.93504e+06       | 182.271\n",
       "2013-04-09 | 190.51  | 249.97  | 188.898 | 233.115 | 6188.92      | 1.36307e+06       | 220.244\n",
       "... (1353 rows omitted)"
      ]
     },
     "execution_count": 7,
     "metadata": {},
     "output_type": "execute_result"
    }
   ],
   "source": [
    "bitcoin = Table.read_table(\"bitcoin.csv\") #retrieved from Quandl: includes: Date, Open, High, Low, Close, Volume (BTC), Volume (Currency), Weighted Price \n",
    "bitcoin"
   ]
  },
  {
   "cell_type": "code",
   "execution_count": 8,
   "metadata": {},
   "outputs": [
    {
     "name": "stderr",
     "output_type": "stream",
     "text": [
      "/srv/app/venv/lib/python3.6/site-packages/ipykernel_launcher.py:4: RuntimeWarning: invalid value encountered in true_divide\n",
      "  after removing the cwd from sys.path.\n",
      "/srv/app/venv/lib/python3.6/site-packages/ipykernel_launcher.py:7: RuntimeWarning: invalid value encountered in true_divide\n",
      "  import sys\n"
     ]
    },
    {
     "data": {
      "text/html": [
       "<table border=\"1\" class=\"dataframe\">\n",
       "    <thead>\n",
       "        <tr>\n",
       "            <th>Date</th> <th>Open</th> <th>High</th> <th>Low</th> <th>Close</th> <th>Volume (BTC)</th> <th>Volume (Currency)</th> <th>Weighted Price</th> <th>Volatility (%)</th> <th>Daily Change(%)</th>\n",
       "        </tr>\n",
       "    </thead>\n",
       "    <tbody>\n",
       "        <tr>\n",
       "            <td>2013-03-31</td> <td>93.25  </td> <td>100    </td> <td>93.03  </td> <td>93.1   </td> <td>390.827     </td> <td>37089.3          </td> <td>94.8996       </td> <td>7.41139       </td> <td>-6.9           </td>\n",
       "        </tr>\n",
       "    </tbody>\n",
       "        <tr>\n",
       "            <td>2013-04-01</td> <td>93.17  </td> <td>105.9  </td> <td>92.5   </td> <td>102.37 </td> <td>4919.65     </td> <td>492101           </td> <td>100.028       </td> <td>3.44828       </td> <td>2.37           </td>\n",
       "        </tr>\n",
       "    </tbody>\n",
       "        <tr>\n",
       "            <td>2013-04-02</td> <td>102.8  </td> <td>118.388</td> <td>99     </td> <td>117.99 </td> <td>9084.83     </td> <td>987412           </td> <td>108.688       </td> <td>0.337382      </td> <td>17.99          </td>\n",
       "        </tr>\n",
       "    </tbody>\n",
       "        <tr>\n",
       "            <td>2013-04-03</td> <td>116.579</td> <td>146.88 </td> <td>101.511</td> <td>134.953</td> <td>12909.4     </td> <td>1.65209e+06      </td> <td>127.976       </td> <td>8.83792       </td> <td>34.953         </td>\n",
       "        </tr>\n",
       "    </tbody>\n",
       "        <tr>\n",
       "            <td>2013-04-04</td> <td>131.78 </td> <td>143    </td> <td>119    </td> <td>132.681</td> <td>6910.1      </td> <td>909439           </td> <td>131.61        </td> <td>7.7773        </td> <td>32.681         </td>\n",
       "        </tr>\n",
       "    </tbody>\n",
       "        <tr>\n",
       "            <td>2013-04-05</td> <td>132.75 </td> <td>145    </td> <td>131.503</td> <td>140    </td> <td>4838.18     </td> <td>669393           </td> <td>138.356       </td> <td>3.57143       </td> <td>40             </td>\n",
       "        </tr>\n",
       "    </tbody>\n",
       "        <tr>\n",
       "            <td>2013-04-06</td> <td>141    </td> <td>144    </td> <td>140.902</td> <td>143.99 </td> <td>2170.75     </td> <td>310411           </td> <td>142.997       </td> <td>0.00694493    </td> <td>43.99          </td>\n",
       "        </tr>\n",
       "    </tbody>\n",
       "        <tr>\n",
       "            <td>2013-04-07</td> <td>144    </td> <td>174.4  </td> <td>143.501</td> <td>174.4  </td> <td>3735.13     </td> <td>583658           </td> <td>156.262       </td> <td>0             </td> <td>74.4           </td>\n",
       "        </tr>\n",
       "    </tbody>\n",
       "        <tr>\n",
       "            <td>2013-04-08</td> <td>172.51 </td> <td>200    </td> <td>166.693</td> <td>194.5  </td> <td>10616.3     </td> <td>1.93504e+06      </td> <td>182.271       </td> <td>2.82776       </td> <td>94.5           </td>\n",
       "        </tr>\n",
       "    </tbody>\n",
       "        <tr>\n",
       "            <td>2013-04-09</td> <td>190.51 </td> <td>249.97 </td> <td>188.898</td> <td>233.115</td> <td>6188.92     </td> <td>1.36307e+06      </td> <td>220.244       </td> <td>7.23034       </td> <td>133.115        </td>\n",
       "        </tr>\n",
       "    </tbody>\n",
       "</table>\n",
       "<p>... (1353 rows omitted)</p"
      ],
      "text/plain": [
       "Date       | Open    | High    | Low     | Close   | Volume (BTC) | Volume (Currency) | Weighted Price | Volatility (%) | Daily Change(%)\n",
       "2013-03-31 | 93.25   | 100     | 93.03   | 93.1    | 390.827      | 37089.3           | 94.8996        | 7.41139        | -6.9\n",
       "2013-04-01 | 93.17   | 105.9   | 92.5    | 102.37  | 4919.65      | 492101            | 100.028        | 3.44828        | 2.37\n",
       "2013-04-02 | 102.8   | 118.388 | 99      | 117.99  | 9084.83      | 987412            | 108.688        | 0.337382       | 17.99\n",
       "2013-04-03 | 116.579 | 146.88  | 101.511 | 134.953 | 12909.4      | 1.65209e+06       | 127.976        | 8.83792        | 34.953\n",
       "2013-04-04 | 131.78  | 143     | 119     | 132.681 | 6910.1       | 909439            | 131.61         | 7.7773         | 32.681\n",
       "2013-04-05 | 132.75  | 145     | 131.503 | 140     | 4838.18      | 669393            | 138.356        | 3.57143        | 40\n",
       "2013-04-06 | 141     | 144     | 140.902 | 143.99  | 2170.75      | 310411            | 142.997        | 0.00694493     | 43.99\n",
       "2013-04-07 | 144     | 174.4   | 143.501 | 174.4   | 3735.13      | 583658            | 156.262        | 0              | 74.4\n",
       "2013-04-08 | 172.51  | 200     | 166.693 | 194.5   | 10616.3      | 1.93504e+06       | 182.271        | 2.82776        | 94.5\n",
       "2013-04-09 | 190.51  | 249.97  | 188.898 | 233.115 | 6188.92      | 1.36307e+06       | 220.244        | 7.23034        | 133.115\n",
       "... (1353 rows omitted)"
      ]
     },
     "execution_count": 8,
     "metadata": {},
     "output_type": "execute_result"
    }
   ],
   "source": [
    "#creating a couple of factors like volatility and percent_daily_change in order to help the machine learning\n",
    "#algorithm have access to more useful variables \n",
    "\n",
    "volatility = (bitcoin.column(\"High\") - bitcoin.column(\"Close\")) /  bitcoin.column(\"Close\") * 100\n",
    "bitcoin = bitcoin.with_column('Volatility (%)', volatility)\n",
    "\n",
    "percent_daily_change = bitcoin.column(\"Close\") - bitcoin.column(\"Open\") / bitcoin.column(\"Open\") * 100\n",
    "bitcoin = bitcoin.with_column('Daily Change(%)', percent_daily_change)\n",
    "\n",
    "bitcoin "
   ]
  },
  {
   "cell_type": "code",
   "execution_count": 5,
   "metadata": {},
   "outputs": [
    {
     "name": "stdout",
     "output_type": "stream",
     "text": [
      "We want to predict 14 days in the future\n"
     ]
    },
    {
     "data": {
      "text/html": [
       "<table border=\"1\" class=\"dataframe\">\n",
       "    <thead>\n",
       "        <tr>\n",
       "            <th>Date</th> <th>Open</th> <th>High</th> <th>Low</th> <th>Close</th> <th>Volume (BTC)</th> <th>Volume (Currency)</th> <th>Weighted Price</th> <th>Future</th>\n",
       "        </tr>\n",
       "    </thead>\n",
       "    <tbody>\n",
       "        <tr>\n",
       "            <td>2013-03-31</td> <td>93.25  </td> <td>100    </td> <td>93.03  </td> <td>93.1   </td> <td>390.827     </td> <td>37089.3          </td> <td>94.8996       </td> <td>95     </td>\n",
       "        </tr>\n",
       "    </tbody>\n",
       "        <tr>\n",
       "            <td>2013-04-01</td> <td>93.17  </td> <td>105.9  </td> <td>92.5   </td> <td>102.37 </td> <td>4919.65     </td> <td>492101           </td> <td>100.028       </td> <td>78.001 </td>\n",
       "        </tr>\n",
       "    </tbody>\n",
       "        <tr>\n",
       "            <td>2013-04-02</td> <td>102.8  </td> <td>118.388</td> <td>99     </td> <td>117.99 </td> <td>9084.83     </td> <td>987412           </td> <td>108.688       </td> <td>70.11  </td>\n",
       "        </tr>\n",
       "    </tbody>\n",
       "        <tr>\n",
       "            <td>2013-04-03</td> <td>116.579</td> <td>146.88 </td> <td>101.511</td> <td>134.953</td> <td>12909.4     </td> <td>1.65209e+06      </td> <td>127.976       </td> <td>91.797 </td>\n",
       "        </tr>\n",
       "    </tbody>\n",
       "        <tr>\n",
       "            <td>2013-04-04</td> <td>131.78 </td> <td>143    </td> <td>119    </td> <td>132.681</td> <td>6910.1      </td> <td>909439           </td> <td>131.61        </td> <td>114.28 </td>\n",
       "        </tr>\n",
       "    </tbody>\n",
       "        <tr>\n",
       "            <td>2013-04-05</td> <td>132.75 </td> <td>145    </td> <td>131.503</td> <td>140    </td> <td>4838.18     </td> <td>669393           </td> <td>138.356       </td> <td>116.95 </td>\n",
       "        </tr>\n",
       "    </tbody>\n",
       "        <tr>\n",
       "            <td>2013-04-06</td> <td>141    </td> <td>144    </td> <td>140.902</td> <td>143.99 </td> <td>2170.75     </td> <td>310411           </td> <td>142.997       </td> <td>126    </td>\n",
       "        </tr>\n",
       "    </tbody>\n",
       "        <tr>\n",
       "            <td>2013-04-07</td> <td>144    </td> <td>174.4  </td> <td>143.501</td> <td>174.4  </td> <td>3735.13     </td> <td>583658           </td> <td>156.262       </td> <td>121    </td>\n",
       "        </tr>\n",
       "    </tbody>\n",
       "        <tr>\n",
       "            <td>2013-04-08</td> <td>172.51 </td> <td>200    </td> <td>166.693</td> <td>194.5  </td> <td>10616.3     </td> <td>1.93504e+06      </td> <td>182.271       </td> <td>127.596</td>\n",
       "        </tr>\n",
       "    </tbody>\n",
       "        <tr>\n",
       "            <td>2013-04-09</td> <td>190.51 </td> <td>249.97 </td> <td>188.898</td> <td>233.115</td> <td>6188.92     </td> <td>1.36307e+06      </td> <td>220.244       </td> <td>145.9  </td>\n",
       "        </tr>\n",
       "    </tbody>\n",
       "</table>\n",
       "<p>... (1339 rows omitted)</p"
      ],
      "text/plain": [
       "Date       | Open    | High    | Low     | Close   | Volume (BTC) | Volume (Currency) | Weighted Price | Future\n",
       "2013-03-31 | 93.25   | 100     | 93.03   | 93.1    | 390.827      | 37089.3           | 94.8996        | 95\n",
       "2013-04-01 | 93.17   | 105.9   | 92.5    | 102.37  | 4919.65      | 492101            | 100.028        | 78.001\n",
       "2013-04-02 | 102.8   | 118.388 | 99      | 117.99  | 9084.83      | 987412            | 108.688        | 70.11\n",
       "2013-04-03 | 116.579 | 146.88  | 101.511 | 134.953 | 12909.4      | 1.65209e+06       | 127.976        | 91.797\n",
       "2013-04-04 | 131.78  | 143     | 119     | 132.681 | 6910.1       | 909439            | 131.61         | 114.28\n",
       "2013-04-05 | 132.75  | 145     | 131.503 | 140     | 4838.18      | 669393            | 138.356        | 116.95\n",
       "2013-04-06 | 141     | 144     | 140.902 | 143.99  | 2170.75      | 310411            | 142.997        | 126\n",
       "2013-04-07 | 144     | 174.4   | 143.501 | 174.4   | 3735.13      | 583658            | 156.262        | 121\n",
       "2013-04-08 | 172.51  | 200     | 166.693 | 194.5   | 10616.3      | 1.93504e+06       | 182.271        | 127.596\n",
       "2013-04-09 | 190.51  | 249.97  | 188.898 | 233.115 | 6188.92      | 1.36307e+06       | 220.244        | 145.9\n",
       "... (1339 rows omitted)"
      ]
     },
     "execution_count": 5,
     "metadata": {},
     "output_type": "execute_result"
    }
   ],
   "source": [
    "#Establishing future prices \n",
    "\n",
    "predicting_col = 'Close' \n",
    "\n",
    "daysback = 0.01 #how far in the future we'd like to predict (in our case 1% based on data sample)\n",
    "future_days = int(math.ceil(daysback * bitcoin.num_rows)) \n",
    "print(\"We want to predict\", str(future_days), \"days in the future\") \n",
    "\n",
    "future_prices = np.roll(bitcoin.column(predicting_col), bitcoin.num_rows - future_days) \n",
    "\n",
    "bitcoin = bitcoin.with_column(\"Future\", future_prices) #The prices 1% in the future from any given data point\n",
    "\n",
    "bitcoin = bitcoin.take(range(0, bitcoin.num_rows - future_days)) # no longer want the last 14 rows because they'll be false\n",
    "\n",
    "bitcoin"
   ]
  },
  {
   "cell_type": "code",
   "execution_count": 337,
   "metadata": {},
   "outputs": [
    {
     "data": {
      "text/plain": [
       "<matplotlib.collections.PathCollection at 0x7fac734eccf8>"
      ]
     },
     "execution_count": 337,
     "metadata": {},
     "output_type": "execute_result"
    },
    {
     "data": {
      "image/png": "[encoded data removed]",
      "text/plain": [
       "<matplotlib.figure.Figure at 0x7fac6260f4a8>"
      ]
     },
     "metadata": {},
     "output_type": "display_data"
    }
   ],
   "source": [
    "y = np.array(bitcoin.column(\"Future\")) #ultimate result \n",
    "\n",
    "bitcoin_predictors = bitcoin.drop([\"Date\",\"Future\"]) #dropping features we don't want for predicting y \n",
    "\n",
    "row_count = bitcoin_predictors.num_rows  # housekeeping: getting data in form we want\n",
    "col_count = bitcoin_predictors.num_columns\n",
    "\n",
    "X = np.zeros(shape = (row_count, col_count)) \n",
    "for row in range(row_count): \n",
    "    arr = np.array(bitcoin_predictors.row(row))\n",
    "    X[row] = arr                                #end of housekeeping\n",
    "\n",
    "#Below, what we're doing is taking 80% of the data we have, and using it as training,\n",
    "#20% are then used for testing once we've developed that classifier\n",
    "X_train, X_test, y_train, y_test = train_test_split(X,y,test_size=0.2) \n",
    "\n",
    "classifier = LinearRegression() #Initializing classifier\n",
    "classifier.fit(X_train,y_train) #trains classifier \n",
    "\n",
    "forecast_set = classifier.predict(X_test)\n",
    "\n",
    "plots.scatter(forecast_set, y_test)"
   ]
  },
  {
   "cell_type": "code",
   "execution_count": 338,
   "metadata": {},
   "outputs": [
    {
     "name": "stdout",
     "output_type": "stream",
     "text": [
      "0.847864549288\n"
     ]
    }
   ],
   "source": [
    "accuracy = classifier.score(X_test, y_test) # correlation of the above scatter plot\n",
    "print(accuracy)"
   ]
  },
  {
   "cell_type": "code",
   "execution_count": 12,
   "metadata": {},
   "outputs": [
    {
     "ename": "NameError",
     "evalue": "name 'crypto_data' is not defined",
     "output_type": "error",
     "traceback": [
      "\u001b[0;31m---------------------------------------------------------------------------\u001b[0m",
      "\u001b[0;31mNameError\u001b[0m                                 Traceback (most recent call last)",
      "\u001b[0;32m<ipython-input-12-f9b936d52284>\u001b[0m in \u001b[0;36m<module>\u001b[0;34m()\u001b[0m\n\u001b[0;32m----> 1\u001b[0;31m \u001b[0mcrypto_data\u001b[0m\u001b[0;34m\u001b[0m\u001b[0m\n\u001b[0m",
      "\u001b[0;31mNameError\u001b[0m: name 'crypto_data' is not defined"
     ]
    }
   ],
   "source": []
  },
  {
   "cell_type": "markdown",
   "metadata": {},
   "source": [
    "Using Machine Learning helped us to get an accuracy score of 84.7%. The reason that this was so much more accurate than a straight up linear regression of closing price against time, is that machine learning enbales a computer to create its own algorithms based on a multitude of variables, not just one."
   ]
  },
  {
   "cell_type": "code",
   "execution_count": 3,
   "metadata": {},
   "outputs": [
    {
     "data": {
      "application/javascript": [
       "IPython.notebook.save_checkpoint();"
      ],
      "text/plain": [
       "<IPython.core.display.Javascript object>"
      ]
     },
     "metadata": {},
     "output_type": "display_data"
    },
    {
     "data": {
      "application/javascript": [
       "IPython.notebook.save_notebook();"
      ],
      "text/plain": [
       "<IPython.core.display.Javascript object>"
      ]
     },
     "metadata": {},
     "output_type": "display_data"
    },
    {
     "name": "stdout",
     "output_type": "stream",
     "text": [
      "Saving notebook... Saved 'exploration.ipynb'.\n",
      "Submit... 100% complete\n",
      "Submission successful for user: maxmiranda@berkeley.edu\n",
      "URL: https://okpy.org/cal/data8/fa17/exploration/submissions/JZPMnJ\n",
      "\n"
     ]
    }
   ],
   "source": [
    "_ = ok.submit()"
   ]
  },
  {
   "cell_type": "code",
   "execution_count": 15,
   "metadata": {},
   "outputs": [
    {
     "data": {
      "text/html": [
       "<table border=\"1\" class=\"dataframe\">\n",
       "    <thead>\n",
       "        <tr>\n",
       "            <th>crypto</th> <th>general sentiment</th> <th>num of mentions</th> <th>price</th>\n",
       "        </tr>\n",
       "    </thead>\n",
       "    <tbody>\n",
       "        <tr>\n",
       "            <td>Bitcoin         </td> <td>Positive         </td> <td>1142           </td> <td>10084.4 </td>\n",
       "        </tr>\n",
       "    </tbody>\n",
       "        <tr>\n",
       "            <td>Bitcoin Cash    </td> <td>Positive         </td> <td>76             </td> <td>1552.62 </td>\n",
       "        </tr>\n",
       "    </tbody>\n",
       "        <tr>\n",
       "            <td>Bitconnect      </td> <td>Neutral          </td> <td>0              </td> <td>285.63  </td>\n",
       "        </tr>\n",
       "    </tbody>\n",
       "        <tr>\n",
       "            <td>Dash            </td> <td>Positive         </td> <td>5              </td> <td>627.05  </td>\n",
       "        </tr>\n",
       "    </tbody>\n",
       "        <tr>\n",
       "            <td>Ethereum        </td> <td>Positive         </td> <td>156            </td> <td>472.24  </td>\n",
       "        </tr>\n",
       "    </tbody>\n",
       "        <tr>\n",
       "            <td>Ethereum Classic</td> <td>Positive         </td> <td>1              </td> <td>34.02   </td>\n",
       "        </tr>\n",
       "    </tbody>\n",
       "        <tr>\n",
       "            <td>Iota            </td> <td>Neutral          </td> <td>1              </td> <td>1.48    </td>\n",
       "        </tr>\n",
       "    </tbody>\n",
       "        <tr>\n",
       "            <td>Litecoin        </td> <td>Positive         </td> <td>14             </td> <td>95.53   </td>\n",
       "        </tr>\n",
       "    </tbody>\n",
       "        <tr>\n",
       "            <td>Monero          </td> <td>Positive         </td> <td>9              </td> <td>198.75  </td>\n",
       "        </tr>\n",
       "    </tbody>\n",
       "        <tr>\n",
       "            <td>Nem             </td> <td>Neutral          </td> <td>1              </td> <td>0.249141</td>\n",
       "        </tr>\n",
       "    </tbody>\n",
       "</table>\n",
       "<p>... (5 rows omitted)</p"
      ],
      "text/plain": [
       "crypto           | general sentiment | num of mentions | price\n",
       "Bitcoin          | Positive          | 1142            | 10084.4\n",
       "Bitcoin Cash     | Positive          | 76              | 1552.62\n",
       "Bitconnect       | Neutral           | 0               | 285.63\n",
       "Dash             | Positive          | 5               | 627.05\n",
       "Ethereum         | Positive          | 156             | 472.24\n",
       "Ethereum Classic | Positive          | 1               | 34.02\n",
       "Iota             | Neutral           | 1               | 1.48\n",
       "Litecoin         | Positive          | 14              | 95.53\n",
       "Monero           | Positive          | 9               | 198.75\n",
       "Nem              | Neutral           | 1               | 0.249141\n",
       "... (5 rows omitted)"
      ]
     },
     "execution_count": 15,
     "metadata": {},
     "output_type": "execute_result"
    }
   ],
   "source": []
  },
  {
   "cell_type": "code",
   "execution_count": 102,
   "metadata": {},
   "outputs": [
    {
     "name": "stdout",
     "output_type": "stream",
     "text": [
      "11.2461587519\n",
      "11.25\n"
     ]
    },
    {
     "data": {
      "text/plain": [
       "(array([  8.00000000e+00,   1.33000000e+02,   1.42300000e+03,\n",
       "          7.69100000e+03,   2.25980000e+04,   3.44510000e+04,\n",
       "          2.50830000e+04,   7.76100000e+03,   8.26000000e+02,\n",
       "          2.60000000e+01]),\n",
       " array([ 29. ,  31.9,  34.8,  37.7,  40.6,  43.5,  46.4,  49.3,  52.2,\n",
       "         55.1,  58. ]),\n",
       " <a list of 10 Patch objects>)"
      ]
     },
     "execution_count": 102,
     "metadata": {},
     "output_type": "execute_result"
    },
    {
     "data": {
      "image/png": "[encoded data removed]",
      "text/plain": [
       "<matplotlib.figure.Figure at 0x7f44c01616a0>"
      ]
     },
     "metadata": {},
     "output_type": "display_data"
    }
   ],
   "source": [
    "slope, intercept, r_value, p_value, std_err = scipy.stats.linregress(x,y) \n",
    "crypto_data = crypto_data.with_column(\"errors\", y - slope *x + intercept)\n",
    "e = crypto_data.column(\"errors\")\n",
    "slope1, intercept1, r_value1, p_value1, std_err1 = scipy.stats.linregress(y, e) \n",
    "r_value1, r_value\n",
    "\n",
    "samples = make_array()\n",
    "for i in range(100000):\n",
    "    samples = np.append(samples, sum(np.random.choice(make_array(1,1,1,1,1,1,0,0),60, replace = True)))\n",
    "print(np.std(samples)**2)\n",
    "print(3/16 * 60)\n",
    "plots.hist(samples)"
   ]
  }
 ],
 "metadata": {
  "kernelspec": {
   "display_name": "Python 3",
   "language": "python",
   "name": "python3"
  },
  "language_info": {
   "codemirror_mode": {
    "name": "ipython",
    "version": 3
   },
   "file_extension": ".py",
   "mimetype": "text/x-python",
   "name": "python",
   "nbconvert_exporter": "python",
   "pygments_lexer": "ipython3",
   "version": "3.6.1"
  }
 },
 "nbformat": 4,
 "nbformat_minor": 1
}
